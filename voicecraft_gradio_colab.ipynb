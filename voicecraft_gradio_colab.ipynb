{
  "cells": [
    {
      "cell_type": "markdown",
      "metadata": {
        "id": "view-in-github",
        "colab_type": "text"
      },
      "source": [
        "<a href=\"https://colab.research.google.com/github/Sewlell/VoiceCraft-gradio-colab/blob/master/voicecraft_gradio_colab.ipynb\" target=\"_parent\"><img src=\"https://colab.research.google.com/assets/colab-badge.svg\" alt=\"Open In Colab\"/></a>"
      ]
    },
    {
      "cell_type": "code",
      "execution_count": null,
      "metadata": {
        "id": "Y87ixxsUVIhM"
      },
      "outputs": [],
      "source": [
        "!git clone https://github.com/Sewlell/VoiceCraft-gradio-colab.git"
      ]
    },
    {
      "cell_type": "code",
      "execution_count": null,
      "metadata": {
        "id": "-w3USR91XdxY"
      },
      "outputs": [],
      "source": [
        "print(\"Have a nice cup of coffee while waiting for it to finish up the installation\")\n",
        "\n",
        "!pip install tensorboard\n",
        "!pip install phonemizer\n",
        "!pip install datasets\n",
        "!pip install torchmetrics\n",
        "\n",
        "!apt-get install -y espeak espeak-data libespeak1 libespeak-dev\n",
        "!apt-get install -y festival*\n",
        "!apt-get install -y build-essential\n",
        "!apt-get install -y flac libasound2-dev libsndfile1-dev vorbis-tools\n",
        "!apt-get install -y libxml2-dev libxslt-dev zlib1g-dev\n",
        "\n",
        "!pip install -e git+https://github.com/facebookresearch/audiocraft.git@c5157b5bf14bf83449c17ea1eeb66c19fb4bc7f0#egg=audiocraft\n",
        "\n",
        "!pip install -r \"/content/VoiceCraft-gradio-colab/gradio_requirements.txt\"\n",
        "\n",
        "!pip install typer==0.7.0"
      ]
    },
    {
      "cell_type": "markdown",
      "metadata": {
        "id": "jNuzjrtmv2n1"
      },
      "source": [
        "# Let it restarted, it won't timeout your runtime or losing progress."
      ]
    },
    {
      "cell_type": "markdown",
      "metadata": {
        "id": "AnqGEwZ4NxtJ"
      },
      "source": [
        "# Note before launching the `gradio_app.py`\n",
        "\n",
        "***You will get JSON warning if you move anything beside `sample_batch_size`, `stop_repetition` and `seed`.*** Which for most advanced setting, `kvache` and `temperature` unable to set in different value.\n",
        "\n",
        "You will download a .file File when you download the output audio for some reason. You will need to **convert the file from .snd to .wav/.mp3 manually**. Or if you enable showing file type in the name in Windows or wherever you are, change the file name to \"xxx.wav\" or \"xxx.mp3\". (know the solution? pull request my repository)\n",
        "\n",
        "VRAM spikes can be observed in the start of the webui. But later that it will just stay at 5GB usage on Tesla T4."
      ]
    },
    {
      "cell_type": "markdown",
      "metadata": {
        "id": "dE0W76cMN3Si"
      },
      "source": [
        "Don't make your `prompt end time` too long, 6-9s is fine. Or else it will **either raise up JSON issue or cut off your generated audio**. This one is due to how VoiceCraft worked (so probably unfixable). It will add those text you want to get audio from at the end of the input audio transcript. It was way too much word for application or code to handle as it added up with original transcript. So please keep it short.\n",
        "\n",
        "Your total audio length (`prompt end time` + add-up audio) must not exceed 16 or 17s."
      ]
    },
    {
      "cell_type": "markdown",
      "source": [
        "Inference speed are depends of your text length, I have tested TTS and Long TTS mode, it can be from 6s for 6s audio, to 30s for 20s audio."
      ],
      "metadata": {
        "id": "9wSxMYiDUuwV"
      }
    },
    {
      "cell_type": "code",
      "execution_count": null,
      "metadata": {
        "id": "NDt4r4DiXAwG"
      },
      "outputs": [],
      "source": [
        "!python /content/VoiceCraft-gradio-colab/gradio_app.py --demo-path=/content/VoiceCraft-gradio-colab/demo --tmp-path=/content/VoiceCraft-gradio-colab/demo/temp --models-path=/content/VoiceCraft-gradio-colab/pretrained_models --share"
      ]
    },
    {
      "cell_type": "markdown",
      "source": [
        "Ignore `WARNING:phonemizer:words count mismatch on 700.0% of the lines (7/1)`"
      ],
      "metadata": {
        "id": "0d7LshD_QMKy"
      }
    }
  ],
  "metadata": {
    "colab": {
      "provenance": [],
      "include_colab_link": true
    },
    "kernelspec": {
      "display_name": "Python 3",
      "name": "python3"
    },
    "language_info": {
      "name": "python"
    }
  },
  "nbformat": 4,
  "nbformat_minor": 0
}